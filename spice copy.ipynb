{
 "cells": [
  {
   "cell_type": "code",
   "execution_count": null,
   "metadata": {
    "execution": {
     "iopub.execute_input": "2024-03-09T13:03:26.781647Z",
     "iopub.status.busy": "2024-03-09T13:03:26.780949Z",
     "iopub.status.idle": "2024-03-09T13:03:30.196075Z",
     "shell.execute_reply": "2024-03-09T13:03:30.195241Z"
    },
    "id": "p09o78LGYdnz"
   },
   "outputs": [],
   "source": [
    "import tensorflow as tf\n",
    "import tensorflow_hub as hub\n",
    "\n",
    "import numpy as np\n",
    "import matplotlib.pyplot as plt\n",
    "import librosa\n",
    "from librosa import display as librosadisplay\n",
    "\n",
    "import logging\n",
    "import math\n",
    "import statistics\n",
    "import sys\n",
    "\n",
    "from IPython.display import Audio, Javascript\n",
    "from scipy.io import wavfile\n",
    "\n",
    "from base64 import b64decode\n",
    "\n",
    "import music21\n",
    "from pydub import AudioSegment\n",
    "\n",
    "logger = logging.getLogger()\n",
    "logger.setLevel(logging.ERROR)\n",
    "\n",
    "print(\"tensorflow: %s\" % tf.__version__)\n",
    "#print(\"librosa: %s\" % librosa.__version__)"
   ]
  },
  {
   "cell_type": "code",
   "execution_count": null,
   "metadata": {
    "cellView": "both",
    "execution": {
     "iopub.execute_input": "2024-03-09T13:03:30.210190Z",
     "iopub.status.busy": "2024-03-09T13:03:30.209621Z",
     "iopub.status.idle": "2024-03-09T13:03:30.458745Z",
     "shell.execute_reply": "2024-03-09T13:03:30.457673Z"
    },
    "id": "sBpWWkTzfUYR"
   },
   "outputs": [],
   "source": [
    "#@title Select how to input your audio  { run: \"auto\" }\n",
    "INPUT_SOURCE = './audiotest/converted_audio_file.wav'\n",
    "\n",
    "print('You selected', INPUT_SOURCE)\n",
    "uploaded_file_name = INPUT_SOURCE\n"
   ]
  },
  {
   "cell_type": "code",
   "execution_count": null,
   "metadata": {
    "execution": {
     "iopub.execute_input": "2024-03-09T13:03:30.463713Z",
     "iopub.status.busy": "2024-03-09T13:03:30.463039Z",
     "iopub.status.idle": "2024-03-09T13:03:30.468150Z",
     "shell.execute_reply": "2024-03-09T13:03:30.467489Z"
    },
    "id": "bQ1362i-JoFI"
   },
   "outputs": [],
   "source": [
    "# Function that converts the user-created audio to the format that the model \n",
    "# expects: bitrate 16kHz and only one channel (mono).\n",
    "\n",
    "EXPECTED_SAMPLE_RATE = 16000\n",
    "\n",
    "def convert_audio_for_model(user_file, output_file='yes.wav'):\n",
    "  audio = AudioSegment.from_file(user_file)\n",
    "  audio = audio.set_frame_rate(EXPECTED_SAMPLE_RATE).set_channels(1)\n",
    "  audio.export(output_file, format=\"wav\")\n",
    "  return output_file"
   ]
  },
  {
   "cell_type": "code",
   "execution_count": null,
   "metadata": {
    "execution": {
     "iopub.execute_input": "2024-03-09T13:03:30.471754Z",
     "iopub.status.busy": "2024-03-09T13:03:30.471154Z",
     "iopub.status.idle": "2024-03-09T13:03:30.476024Z",
     "shell.execute_reply": "2024-03-09T13:03:30.475378Z"
    },
    "id": "oL9pftZ2nPm9"
   },
   "outputs": [],
   "source": [
    "# Converting to the expected format for the model\n",
    "# in all the input 4 input method before, the uploaded file name is at\n",
    "# the variable uploaded_file_name\n",
    "converted_audio_file = convert_audio_for_model(uploaded_file_name)\n",
    "\n",
    "# Loading audio samples from the wav file:\n",
    "sample_rate, audio_samples = wavfile.read(converted_audio_file, 'rb')\n",
    "\n",
    "# Show some basic information about the audio.\n",
    "duration = len(audio_samples)/sample_rate\n"
   ]
  },
  {
   "cell_type": "markdown",
   "metadata": {
    "id": "J1eI0b8qgn08"
   },
   "source": [
    "A more informative visualization is the [spectrogram](https://en.wikipedia.org/wiki/Spectrogram), which shows frequencies present over time.\n",
    "\n",
    "Here, we use a logarithmic frequency scale, to make the singing more clearly visible.\n"
   ]
  },
  {
   "cell_type": "code",
   "execution_count": null,
   "metadata": {
    "execution": {
     "iopub.execute_input": "2024-03-09T13:03:39.869580Z",
     "iopub.status.busy": "2024-03-09T13:03:39.869039Z",
     "iopub.status.idle": "2024-03-09T13:03:39.873503Z",
     "shell.execute_reply": "2024-03-09T13:03:39.872807Z"
    },
    "id": "dv4H4O1Xb8T8"
   },
   "outputs": [],
   "source": [
    "MAX_ABS_INT16 = 32768.0\n",
    "\n",
    "audio_samples = audio_samples / float(MAX_ABS_INT16)"
   ]
  },
  {
   "cell_type": "code",
   "execution_count": null,
   "metadata": {
    "execution": {
     "iopub.execute_input": "2024-03-09T13:03:39.877095Z",
     "iopub.status.busy": "2024-03-09T13:03:39.876570Z",
     "iopub.status.idle": "2024-03-09T13:03:41.541149Z",
     "shell.execute_reply": "2024-03-09T13:03:41.540272Z"
    },
    "id": "ri0A0DSXY_Yd"
   },
   "outputs": [],
   "source": [
    "# Loading the SPICE model is easy:\n",
    "model = hub.load(\"https://tfhub.dev/google/spice/2\")"
   ]
  },
  {
   "cell_type": "code",
   "execution_count": null,
   "metadata": {
    "execution": {
     "iopub.execute_input": "2024-03-09T13:03:41.545758Z",
     "iopub.status.busy": "2024-03-09T13:03:41.545026Z",
     "iopub.status.idle": "2024-03-09T13:03:42.387463Z",
     "shell.execute_reply": "2024-03-09T13:03:42.386680Z"
    },
    "id": "tP55fXBYcBhb"
   },
   "outputs": [],
   "source": [
    "# We now feed the audio to the SPICE tf.hub model to obtain pitch and uncertainty outputs as tensors.\n",
    "model_output = model.signatures[\"serving_default\"](tf.constant(audio_samples, tf.float32))\n",
    "\n",
    "pitch_outputs = model_output[\"pitch\"]\n",
    "uncertainty_outputs = model_output[\"uncertainty\"]\n",
    "\n",
    "# 'Uncertainty' basically means the inverse of confidence.\n",
    "confidence_outputs = 1.0 - uncertainty_outputs\n"
   ]
  },
  {
   "cell_type": "markdown",
   "metadata": {
    "id": "blJwFWR4kMul"
   },
   "source": [
    "Let's make the results easier to understand by removing all pitch estimates with low confidence (confidence < 0.9) and plot the remaining ones.\n"
   ]
  },
  {
   "cell_type": "code",
   "execution_count": null,
   "metadata": {
    "execution": {
     "iopub.execute_input": "2024-03-09T13:03:42.395319Z",
     "iopub.status.busy": "2024-03-09T13:03:42.394640Z",
     "iopub.status.idle": "2024-03-09T13:03:42.968975Z",
     "shell.execute_reply": "2024-03-09T13:03:42.968180Z"
    },
    "id": "d1MRmcm2cEkM"
   },
   "outputs": [],
   "source": [
    "confidence_outputs = list(confidence_outputs)\n",
    "pitch_outputs = [ float(x) for x in pitch_outputs]\n",
    "\n",
    "indices = range(len (pitch_outputs))\n",
    "confident_pitch_outputs = [ (i,p)  \n",
    "  for i, p, c in zip(indices, pitch_outputs, confidence_outputs) if  c >= 0.9  ]\n",
    "confident_pitch_outputs_x, confident_pitch_outputs_y = zip(*confident_pitch_outputs)\n"
   ]
  },
  {
   "cell_type": "markdown",
   "metadata": {
    "id": "vNBZ7ZblkxOm"
   },
   "source": [
    "The pitch values returned by SPICE are in the range from 0 to 1. Let's convert them to absolute pitch values in Hz."
   ]
  },
  {
   "cell_type": "code",
   "execution_count": null,
   "metadata": {
    "execution": {
     "iopub.execute_input": "2024-03-09T13:03:42.973492Z",
     "iopub.status.busy": "2024-03-09T13:03:42.972766Z",
     "iopub.status.idle": "2024-03-09T13:03:42.977701Z",
     "shell.execute_reply": "2024-03-09T13:03:42.976995Z"
    },
    "id": "n-CnpKzmcQi9"
   },
   "outputs": [],
   "source": [
    "def output2hz(pitch_output):\n",
    "  # Constants taken from https://tfhub.dev/google/spice/2\n",
    "  PT_OFFSET = 25.58\n",
    "  PT_SLOPE = 63.07\n",
    "  FMIN = 10.0;\n",
    "  BINS_PER_OCTAVE = 12.0;\n",
    "  cqt_bin = pitch_output * PT_SLOPE + PT_OFFSET;\n",
    "  return FMIN * 2.0 ** (1.0 * cqt_bin / BINS_PER_OCTAVE)\n",
    "    \n",
    "confident_pitch_values_hz = [ output2hz(p) for p in confident_pitch_outputs_y ]\n"
   ]
  }
 ],
 "metadata": {
  "colab": {
   "collapsed_sections": [],
   "name": "spice.ipynb",
   "toc_visible": true
  },
  "kernelspec": {
   "display_name": "Python 3",
   "name": "python3"
  },
  "language_info": {
   "codemirror_mode": {
    "name": "ipython",
    "version": 3
   },
   "file_extension": ".py",
   "mimetype": "text/x-python",
   "name": "python",
   "nbconvert_exporter": "python",
   "pygments_lexer": "ipython3",
   "version": "3.11.5"
  }
 },
 "nbformat": 4,
 "nbformat_minor": 0
}
